{
 "cells": [
  {
   "cell_type": "code",
   "execution_count": 3,
   "metadata": {},
   "outputs": [],
   "source": [
    "# Author: Arthur Prigent\n",
    "# Email: aprigent@geomar.de"
   ]
  },
  {
   "cell_type": "code",
   "execution_count": 4,
   "metadata": {},
   "outputs": [],
   "source": [
    "import xarray as xr \n",
    "#import xgcm \n",
    "import numpy as np\n",
    "import matplotlib.pyplot as plt\n",
    "\n",
    "from pathlib import Path\n",
    "import glob\n",
    "import cartopy.crs as ccrs\n",
    "import warnings\n",
    "warnings.filterwarnings('ignore')\n",
    "import matplotlib.ticker as mticker\n",
    "import cartopy\n",
    "from scipy import stats\n",
    "import pandas as pd\n",
    "from datetime import datetime\n",
    "now = datetime.now()\n",
    "\n",
    "\n",
    "\n",
    "def data_sub(data,lon_min,lon_max,lat_min,lat_max):\n",
    "    \n",
    "    '''Define a box between lon_min lon_max lat_min and lat_max and \n",
    "    extract the data in the box and drop everything else.\n",
    "    \n",
    "    \n",
    "    Parameters\n",
    "    ----------\n",
    "    \n",
    "    data : xarray_like\n",
    "    Data to be subdomained. \n",
    "    \n",
    "    lon_min : integer\n",
    "    Longitude minimum of the subdomain\n",
    "    \n",
    "    lon_max : integer\n",
    "    Longitude maximum of the subdomain\n",
    "    \n",
    "    lat_min : integer\n",
    "    Latitude minimum of the subdomain\n",
    "    \n",
    "    lat_max : integer\n",
    "    Latitude maximum of the subdomain\n",
    "    \n",
    "    Returns\n",
    "    ---------\n",
    "    \n",
    "    data_sub : xarray_like\n",
    "    Subdomain. \n",
    "    '''\n",
    "    \n",
    "    try:\n",
    "        data_sub = data.where((  data.lon>=lon_min) & (data.lon<=lon_max) & (data.lat<=lat_max) & (data.lat>=lat_min),\n",
    "                                                                          drop=True)\n",
    "    except AttributeError:\n",
    "        try:\n",
    "            data_sub = data.where((  data.nav_lon>=lon_min) & (data.nav_lon<=lon_max) & (data.nav_lat<=lat_max) & (data.nav_lat>=lat_min),drop=True)\n",
    "        except AttributeError:\n",
    "            try:\n",
    "                data_sub = data.where((  data.longitude>=lon_min) & (data.longitude<=lon_max) & (data.latitude<=lat_max) & (data.latitude>=lat_min),drop=True)\n",
    "            except AttributeError:\n",
    "                try:\n",
    "                    data_sub = data.where((  data.x>=lon_min) & (data.x<=lon_max) & (data.y<=lat_max) &\n",
    "                                      (data.y>=lat_min),drop=True)\n",
    "                except AttributeError:\n",
    "                    data_sub = data.where((  data.LON>=lon_min) & (data.LON<=lon_max) & (data.LAT<=lat_max) &\n",
    "                                      (data.LAT>=lat_min),drop=True)\n",
    "            \n",
    "    \n",
    "\n",
    " \n",
    "    \n",
    "    return data_sub\n",
    "import scipy.optimize as sc_o\n",
    "\n",
    "\n",
    "def nandetrend(y):\n",
    "    ''' Remove the linear trend from the data '''\n",
    "    \n",
    "    x = np.arange(0,y.shape[0],1)\n",
    "    m, b, r_val, p_val, std_err = stats.linregress(x,np.array(y))\n",
    "    y_detrended= np.array(y) - m*x -b\n",
    "    return y_detrended\n",
    "\n",
    "\n",
    "\n",
    "dir_cmip5 = '/data/user/aprigent/projects/uncertainty_ATL3_ABA/data/swift.dkrz.de/cmip5_data/'\n",
    "dir_cmip6 = '/data/user/aprigent/projects/uncertainty_ATL3_ABA/data/swift.dkrz.de/cmip6_data/'\n",
    "\n",
    "\n",
    "\n",
    "data_cmip_hist_tos = '/data/user/aprigent/projects/uncertainty_ATL3_ABA/data/swift.dkrz.de/cmip5_data/hist_rcp45/'\n",
    "data_cmip_rcp_tos = '/data/user/aprigent/projects/uncertainty_ATL3_ABA/data/swift.dkrz.de/cmip5_data/rcp_85/'\n",
    "\n",
    "\n",
    "path_fig='/data/user/aprigent/projects/uncertainty_ATL3_ABA/figures/'\n",
    "path_data_out = '/data/user/aprigent/projects/uncertainty_ATL3_ABA/data/'"
   ]
  },
  {
   "cell_type": "markdown",
   "metadata": {},
   "source": [
    "# List of models and scenario considered"
   ]
  },
  {
   "cell_type": "code",
   "execution_count": 5,
   "metadata": {},
   "outputs": [
    {
     "data": {
      "text/plain": [
       "35"
      ]
     },
     "execution_count": 5,
     "metadata": {},
     "output_type": "execute_result"
    }
   ],
   "source": [
    "\n",
    "\n",
    "model_list_CMIP5=['ACCESS1-0','ACCESS1-3','bcc-csm1-1-m','bcc-csm1-1','BNU-ESM',\n",
    "            'CanESM2','CCSM4','CESM1-BGC','CESM1-CAM5','CMCC-CM','CMCC-CMS','CNRM-CM5','CSIRO-Mk3-6-0',\n",
    "            'FGOALS-g2','GFDL-CM3','GFDL-ESM2G','GFDL-ESM2M','GISS-E2-H-CC','GISS-E2-H',\n",
    "            'GISS-E2-R-CC','GISS-E2-R','HadGEM2-CC','HadGEM2-ES','inmcm4','IPSL-CM5A-LR','IPSL-CM5A-MR','IPSL-CM5B-LR',\n",
    "            'MIROC-ESM-CHEM','MIROC-ESM','MIROC5','MPI-ESM-LR','MPI-ESM-MR','MRI-CGCM3','NorESM1-M','NorESM1-ME']\n",
    "\n",
    "scenario_CMIP5=['hist_rcp45','rcp85']\n",
    "\n",
    "len(model_list_CMIP5)"
   ]
  },
  {
   "cell_type": "markdown",
   "metadata": {},
   "source": [
    "# Functions to get the ATL3 SST variability"
   ]
  },
  {
   "cell_type": "code",
   "execution_count": 6,
   "metadata": {},
   "outputs": [],
   "source": [
    "def make_sst_atl3(sst_tmp):\n",
    "\n",
    "    sst_tmp = sst_tmp.ts[:] - 273.15 # convert to degree C\n",
    "    sst_tmp = xr.concat([sst_tmp[ :,:, 72:], sst_tmp[:, :, :72]], dim='lon')\n",
    "    sst_tmp.coords['lon'] = (sst_tmp.coords['lon'] + 180) % 360 - 180\n",
    "    sst_atl3 = data_sub(sst_tmp,-20,0,-3,3) # Take ATL3 box\n",
    "    sst_atl3 = sst_atl3.mean(dim='lon').mean(dim='lat') # average of the ATL3 box\n",
    "\n",
    "    return sst_atl3\n",
    "\n",
    "\n",
    "def ano_norm_t(ds):\n",
    "    \n",
    "    '''Compute the anomalies by removing the monthly means. \n",
    "    The anomalies are normalized by their corresponding month.\n",
    "    \n",
    "    Parameters\n",
    "    ----------\n",
    "    \n",
    "    ds : xarray_like\n",
    "    Timeserie or 3d field.\n",
    "    \n",
    "    Returns\n",
    "    -----------\n",
    "    \n",
    "    ano : xarray_like\n",
    "    Returns the anomalies of var relative the climatology.\n",
    "    \n",
    "    ano_norm : xarray_like\n",
    "    Returns the anomalies of var relative the climatology normalized by the standard deviation.\n",
    "    \n",
    "    '''    \n",
    "    \n",
    "    clim     = ds.groupby('time.month').mean('time')\n",
    "    clim_std = ds.groupby('time.month').std('time')\n",
    "    ano      = ds.groupby('time.month') - clim\n",
    "    ano_norm = xr.apply_ufunc(lambda x, m, s: (x - m) / s,\n",
    "                                    ds.groupby('time.month'),\n",
    "                                    clim, clim_std)\n",
    "    \n",
    "    return ano, ano_norm\n",
    "\n",
    "\n",
    "def compute_atl3_amplitude(sst_atl3,period_str,period_end):\n",
    "    \n",
    "    try:\n",
    "\n",
    "        sst_atl3 = sst_atl3.sel(time=slice(datetime(period_str, 1, 1),\n",
    "                                                         datetime(period_end, 12, 31)))\n",
    "    except TypeError:\n",
    "        sst_atl3['time'] = sst_atl3.indexes['time'].to_datetimeindex()\n",
    "        sst_atl3 = sst_atl3.sel(time=slice(datetime(period_str, 1, 1),\n",
    "                                                         datetime(period_end, 12, 31)))   \n",
    "    \n",
    "    xdata_1 = np.arange(0,sst_atl3.shape[0],1)\n",
    "    ydata_1_tmp = np.array(sst_atl3)\n",
    "    #print(sst_atl3.shape[0])\n",
    "    \n",
    "    sst_atl3 = sst_atl3.assign_coords(sst_dtd=('time',  nandetrend(ydata_1_tmp)))\n",
    "    if sst_atl3.shape[0]>0:\n",
    "\n",
    "        ssta_tmp,_ = ano_norm_t(sst_atl3.sst_dtd)\n",
    "        amp_atl3_std = ssta_tmp.std(dim='time')\n",
    "    else:\n",
    "        amp_atl3_std = np.nan\n",
    "\n",
    "\n",
    "    return amp_atl3_std"
   ]
  },
  {
   "cell_type": "markdown",
   "metadata": {},
   "source": [
    "# Create the 31-year windows "
   ]
  },
  {
   "cell_type": "code",
   "execution_count": 7,
   "metadata": {},
   "outputs": [],
   "source": [
    "year_start= np.arange(1900,2070,1)\n",
    "year_end= np.arange(1930,2100,1)\n",
    "\n",
    "\n",
    "period_str_cmip5_hist = 1900\n",
    "period_end_cmip5_hist = 2005\n",
    "\n",
    "period_str_cmip5_rcp45 = 2006\n",
    "period_end_cmip5_rcp45 = 2099"
   ]
  },
  {
   "cell_type": "markdown",
   "metadata": {},
   "source": [
    "x = x(s,m,t) with x representing the Atlantic Nino amplitude\n",
    "\n",
    "X is the low-pass filtered values of Atlantic Nino amplitude, X$_{f}$ is the long-term trend and $\\epsilon$ the internal long-term variability\n",
    "\n",
    "X(s,m,t) = X$_{f}$(s,m,t) + $\\epsilon$(s,m,t) hence the dimension are s = 2, i.e. 2 scenarios, m =35, 35 models."
   ]
  },
  {
   "cell_type": "markdown",
   "metadata": {},
   "source": [
    "# Compute X(s,m,t)"
   ]
  },
  {
   "cell_type": "code",
   "execution_count": 8,
   "metadata": {},
   "outputs": [
    {
     "data": {
      "text/plain": [
       "170"
      ]
     },
     "execution_count": 8,
     "metadata": {},
     "output_type": "execute_result"
    }
   ],
   "source": [
    "year_end.shape[0]"
   ]
  },
  {
   "cell_type": "code",
   "execution_count": 9,
   "metadata": {},
   "outputs": [
    {
     "name": "stdout",
     "output_type": "stream",
     "text": [
      "hist_rcp45\n",
      "ACCESS1-0\n",
      "ts.hist_rcp45.ACCESS1-0.r1i1p1.r144x72.ncts.hist_rcp45.ACCESS1-0.r1i1p1.r144x72.nc\n",
      "start running mean\n",
      " \n",
      "ACCESS1-3\n",
      "ts.hist_rcp45.ACCESS1-3.r1i1p1.r144x72.ncts.hist_rcp45.ACCESS1-3.r1i1p1.r144x72.nc\n",
      "start running mean\n",
      " \n",
      "bcc-csm1-1-m\n",
      "ts.hist_rcp45.bcc-csm1-1-m.r1i1p1.r144x72.ncts.hist_rcp45.bcc-csm1-1-m.r1i1p1.r144x72.nc\n",
      "start running mean\n"
     ]
    },
    {
     "ename": "KeyboardInterrupt",
     "evalue": "",
     "output_type": "error",
     "traceback": [
      "\u001b[0;31m---------------------------------------------------------------------------\u001b[0m",
      "\u001b[0;31mKeyboardInterrupt\u001b[0m                         Traceback (most recent call last)",
      "\u001b[0;32m<ipython-input-9-57614622848c>\u001b[0m in \u001b[0;36m<module>\u001b[0;34m\u001b[0m\n\u001b[1;32m     47\u001b[0m             \u001b[0;32mfor\u001b[0m \u001b[0mk\u001b[0m \u001b[0;32min\u001b[0m \u001b[0mrange\u001b[0m\u001b[0;34m(\u001b[0m\u001b[0;36m170\u001b[0m\u001b[0;34m)\u001b[0m\u001b[0;34m:\u001b[0m\u001b[0;34m\u001b[0m\u001b[0;34m\u001b[0m\u001b[0m\n\u001b[1;32m     48\u001b[0m                 \u001b[0;31m#print(j)\u001b[0m\u001b[0;34m\u001b[0m\u001b[0;34m\u001b[0m\u001b[0;34m\u001b[0m\u001b[0m\n\u001b[0;32m---> 49\u001b[0;31m                 \u001b[0mamp_atl3_std\u001b[0m\u001b[0;34m[\u001b[0m\u001b[0mj\u001b[0m\u001b[0;34m,\u001b[0m\u001b[0mi\u001b[0m\u001b[0;34m,\u001b[0m\u001b[0mk\u001b[0m\u001b[0;34m]\u001b[0m \u001b[0;34m=\u001b[0m \u001b[0mcompute_atl3_amplitude\u001b[0m\u001b[0;34m(\u001b[0m\u001b[0msst_all_atl3\u001b[0m\u001b[0;34m,\u001b[0m\u001b[0myear_start\u001b[0m\u001b[0;34m[\u001b[0m\u001b[0mk\u001b[0m\u001b[0;34m]\u001b[0m\u001b[0;34m,\u001b[0m\u001b[0myear_end\u001b[0m\u001b[0;34m[\u001b[0m\u001b[0mk\u001b[0m\u001b[0;34m]\u001b[0m\u001b[0;34m)\u001b[0m\u001b[0;34m\u001b[0m\u001b[0;34m\u001b[0m\u001b[0m\n\u001b[0m\u001b[1;32m     50\u001b[0m             \u001b[0mprint\u001b[0m\u001b[0;34m(\u001b[0m\u001b[0;34m' '\u001b[0m\u001b[0;34m)\u001b[0m\u001b[0;34m\u001b[0m\u001b[0;34m\u001b[0m\u001b[0m\n",
      "\u001b[0;32m<ipython-input-6-5e8ea8d735ea>\u001b[0m in \u001b[0;36mcompute_atl3_amplitude\u001b[0;34m(sst_atl3, period_str, period_end)\u001b[0m\n\u001b[1;32m     60\u001b[0m     \u001b[0;32mif\u001b[0m \u001b[0msst_atl3\u001b[0m\u001b[0;34m.\u001b[0m\u001b[0mshape\u001b[0m\u001b[0;34m[\u001b[0m\u001b[0;36m0\u001b[0m\u001b[0;34m]\u001b[0m\u001b[0;34m>\u001b[0m\u001b[0;36m0\u001b[0m\u001b[0;34m:\u001b[0m\u001b[0;34m\u001b[0m\u001b[0;34m\u001b[0m\u001b[0m\n\u001b[1;32m     61\u001b[0m \u001b[0;34m\u001b[0m\u001b[0m\n\u001b[0;32m---> 62\u001b[0;31m         \u001b[0mssta_tmp\u001b[0m\u001b[0;34m,\u001b[0m\u001b[0m_\u001b[0m \u001b[0;34m=\u001b[0m \u001b[0mano_norm_t\u001b[0m\u001b[0;34m(\u001b[0m\u001b[0msst_atl3\u001b[0m\u001b[0;34m.\u001b[0m\u001b[0msst_dtd\u001b[0m\u001b[0;34m)\u001b[0m\u001b[0;34m\u001b[0m\u001b[0;34m\u001b[0m\u001b[0m\n\u001b[0m\u001b[1;32m     63\u001b[0m         \u001b[0mamp_atl3_std\u001b[0m \u001b[0;34m=\u001b[0m \u001b[0mssta_tmp\u001b[0m\u001b[0;34m.\u001b[0m\u001b[0mstd\u001b[0m\u001b[0;34m(\u001b[0m\u001b[0mdim\u001b[0m\u001b[0;34m=\u001b[0m\u001b[0;34m'time'\u001b[0m\u001b[0;34m)\u001b[0m\u001b[0;34m\u001b[0m\u001b[0;34m\u001b[0m\u001b[0m\n\u001b[1;32m     64\u001b[0m     \u001b[0;32melse\u001b[0m\u001b[0;34m:\u001b[0m\u001b[0;34m\u001b[0m\u001b[0;34m\u001b[0m\u001b[0m\n",
      "\u001b[0;32m<ipython-input-6-5e8ea8d735ea>\u001b[0m in \u001b[0;36mano_norm_t\u001b[0;34m(ds)\u001b[0m\n\u001b[1;32m     34\u001b[0m     \u001b[0mclim\u001b[0m     \u001b[0;34m=\u001b[0m \u001b[0mds\u001b[0m\u001b[0;34m.\u001b[0m\u001b[0mgroupby\u001b[0m\u001b[0;34m(\u001b[0m\u001b[0;34m'time.month'\u001b[0m\u001b[0;34m)\u001b[0m\u001b[0;34m.\u001b[0m\u001b[0mmean\u001b[0m\u001b[0;34m(\u001b[0m\u001b[0;34m'time'\u001b[0m\u001b[0;34m)\u001b[0m\u001b[0;34m\u001b[0m\u001b[0;34m\u001b[0m\u001b[0m\n\u001b[1;32m     35\u001b[0m     \u001b[0mclim_std\u001b[0m \u001b[0;34m=\u001b[0m \u001b[0mds\u001b[0m\u001b[0;34m.\u001b[0m\u001b[0mgroupby\u001b[0m\u001b[0;34m(\u001b[0m\u001b[0;34m'time.month'\u001b[0m\u001b[0;34m)\u001b[0m\u001b[0;34m.\u001b[0m\u001b[0mstd\u001b[0m\u001b[0;34m(\u001b[0m\u001b[0;34m'time'\u001b[0m\u001b[0;34m)\u001b[0m\u001b[0;34m\u001b[0m\u001b[0;34m\u001b[0m\u001b[0m\n\u001b[0;32m---> 36\u001b[0;31m     \u001b[0mano\u001b[0m      \u001b[0;34m=\u001b[0m \u001b[0mds\u001b[0m\u001b[0;34m.\u001b[0m\u001b[0mgroupby\u001b[0m\u001b[0;34m(\u001b[0m\u001b[0;34m'time.month'\u001b[0m\u001b[0;34m)\u001b[0m \u001b[0;34m-\u001b[0m \u001b[0mclim\u001b[0m\u001b[0;34m\u001b[0m\u001b[0;34m\u001b[0m\u001b[0m\n\u001b[0m\u001b[1;32m     37\u001b[0m     ano_norm = xr.apply_ufunc(lambda x, m, s: (x - m) / s,\n\u001b[1;32m     38\u001b[0m                                     \u001b[0mds\u001b[0m\u001b[0;34m.\u001b[0m\u001b[0mgroupby\u001b[0m\u001b[0;34m(\u001b[0m\u001b[0;34m'time.month'\u001b[0m\u001b[0;34m)\u001b[0m\u001b[0;34m,\u001b[0m\u001b[0;34m\u001b[0m\u001b[0;34m\u001b[0m\u001b[0m\n",
      "\u001b[0;32m~/miniconda3/envs/py3_std/lib/python3.7/site-packages/xarray/core/groupby.py\u001b[0m in \u001b[0;36mfunc\u001b[0;34m(self, other)\u001b[0m\n\u001b[1;32m    462\u001b[0m             \u001b[0mg\u001b[0m \u001b[0;34m=\u001b[0m \u001b[0mf\u001b[0m \u001b[0;32mif\u001b[0m \u001b[0;32mnot\u001b[0m \u001b[0mreflexive\u001b[0m \u001b[0;32melse\u001b[0m \u001b[0;32mlambda\u001b[0m \u001b[0mx\u001b[0m\u001b[0;34m,\u001b[0m \u001b[0my\u001b[0m\u001b[0;34m:\u001b[0m \u001b[0mf\u001b[0m\u001b[0;34m(\u001b[0m\u001b[0my\u001b[0m\u001b[0;34m,\u001b[0m \u001b[0mx\u001b[0m\u001b[0;34m)\u001b[0m\u001b[0;34m\u001b[0m\u001b[0;34m\u001b[0m\u001b[0m\n\u001b[1;32m    463\u001b[0m             \u001b[0mapplied\u001b[0m \u001b[0;34m=\u001b[0m \u001b[0mself\u001b[0m\u001b[0;34m.\u001b[0m\u001b[0m_yield_binary_applied\u001b[0m\u001b[0;34m(\u001b[0m\u001b[0mg\u001b[0m\u001b[0;34m,\u001b[0m \u001b[0mother\u001b[0m\u001b[0;34m)\u001b[0m\u001b[0;34m\u001b[0m\u001b[0;34m\u001b[0m\u001b[0m\n\u001b[0;32m--> 464\u001b[0;31m             \u001b[0mcombined\u001b[0m \u001b[0;34m=\u001b[0m \u001b[0mself\u001b[0m\u001b[0;34m.\u001b[0m\u001b[0m_combine\u001b[0m\u001b[0;34m(\u001b[0m\u001b[0mapplied\u001b[0m\u001b[0;34m)\u001b[0m\u001b[0;34m\u001b[0m\u001b[0;34m\u001b[0m\u001b[0m\n\u001b[0m\u001b[1;32m    465\u001b[0m             \u001b[0;32mreturn\u001b[0m \u001b[0mcombined\u001b[0m\u001b[0;34m\u001b[0m\u001b[0;34m\u001b[0m\u001b[0m\n\u001b[1;32m    466\u001b[0m \u001b[0;34m\u001b[0m\u001b[0m\n",
      "\u001b[0;32m~/miniconda3/envs/py3_std/lib/python3.7/site-packages/xarray/core/groupby.py\u001b[0m in \u001b[0;36m_combine\u001b[0;34m(self, applied, restore_coord_dims, shortcut)\u001b[0m\n\u001b[1;32m    689\u001b[0m             \u001b[0mcombined\u001b[0m \u001b[0;34m=\u001b[0m \u001b[0mself\u001b[0m\u001b[0;34m.\u001b[0m\u001b[0m_concat_shortcut\u001b[0m\u001b[0;34m(\u001b[0m\u001b[0mapplied\u001b[0m\u001b[0;34m,\u001b[0m \u001b[0mdim\u001b[0m\u001b[0;34m,\u001b[0m \u001b[0mpositions\u001b[0m\u001b[0;34m)\u001b[0m\u001b[0;34m\u001b[0m\u001b[0;34m\u001b[0m\u001b[0m\n\u001b[1;32m    690\u001b[0m         \u001b[0;32melse\u001b[0m\u001b[0;34m:\u001b[0m\u001b[0;34m\u001b[0m\u001b[0;34m\u001b[0m\u001b[0m\n\u001b[0;32m--> 691\u001b[0;31m             \u001b[0mcombined\u001b[0m \u001b[0;34m=\u001b[0m \u001b[0mconcat\u001b[0m\u001b[0;34m(\u001b[0m\u001b[0mapplied\u001b[0m\u001b[0;34m,\u001b[0m \u001b[0mdim\u001b[0m\u001b[0;34m)\u001b[0m\u001b[0;34m\u001b[0m\u001b[0;34m\u001b[0m\u001b[0m\n\u001b[0m\u001b[1;32m    692\u001b[0m             \u001b[0mcombined\u001b[0m \u001b[0;34m=\u001b[0m \u001b[0m_maybe_reorder\u001b[0m\u001b[0;34m(\u001b[0m\u001b[0mcombined\u001b[0m\u001b[0;34m,\u001b[0m \u001b[0mdim\u001b[0m\u001b[0;34m,\u001b[0m \u001b[0mpositions\u001b[0m\u001b[0;34m)\u001b[0m\u001b[0;34m\u001b[0m\u001b[0;34m\u001b[0m\u001b[0m\n\u001b[1;32m    693\u001b[0m \u001b[0;34m\u001b[0m\u001b[0m\n",
      "\u001b[0;32m~/miniconda3/envs/py3_std/lib/python3.7/site-packages/xarray/core/concat.py\u001b[0m in \u001b[0;36mconcat\u001b[0;34m(objs, dim, data_vars, coords, compat, positions, fill_value, join)\u001b[0m\n\u001b[1;32m    129\u001b[0m             \u001b[0;34m\"objects, got %s\"\u001b[0m \u001b[0;34m%\u001b[0m \u001b[0mtype\u001b[0m\u001b[0;34m(\u001b[0m\u001b[0mfirst_obj\u001b[0m\u001b[0;34m)\u001b[0m\u001b[0;34m\u001b[0m\u001b[0;34m\u001b[0m\u001b[0m\n\u001b[1;32m    130\u001b[0m         )\n\u001b[0;32m--> 131\u001b[0;31m     \u001b[0;32mreturn\u001b[0m \u001b[0mf\u001b[0m\u001b[0;34m(\u001b[0m\u001b[0mobjs\u001b[0m\u001b[0;34m,\u001b[0m \u001b[0mdim\u001b[0m\u001b[0;34m,\u001b[0m \u001b[0mdata_vars\u001b[0m\u001b[0;34m,\u001b[0m \u001b[0mcoords\u001b[0m\u001b[0;34m,\u001b[0m \u001b[0mcompat\u001b[0m\u001b[0;34m,\u001b[0m \u001b[0mpositions\u001b[0m\u001b[0;34m,\u001b[0m \u001b[0mfill_value\u001b[0m\u001b[0;34m,\u001b[0m \u001b[0mjoin\u001b[0m\u001b[0;34m)\u001b[0m\u001b[0;34m\u001b[0m\u001b[0;34m\u001b[0m\u001b[0m\n\u001b[0m\u001b[1;32m    132\u001b[0m \u001b[0;34m\u001b[0m\u001b[0m\n\u001b[1;32m    133\u001b[0m \u001b[0;34m\u001b[0m\u001b[0m\n",
      "\u001b[0;32m~/miniconda3/envs/py3_std/lib/python3.7/site-packages/xarray/core/concat.py\u001b[0m in \u001b[0;36m_dataarray_concat\u001b[0;34m(arrays, dim, data_vars, coords, compat, positions, fill_value, join)\u001b[0m\n\u001b[1;32m    390\u001b[0m     \u001b[0mjoin\u001b[0m\u001b[0;34m=\u001b[0m\u001b[0;34m\"outer\"\u001b[0m\u001b[0;34m,\u001b[0m\u001b[0;34m\u001b[0m\u001b[0;34m\u001b[0m\u001b[0m\n\u001b[1;32m    391\u001b[0m ):\n\u001b[0;32m--> 392\u001b[0;31m     \u001b[0marrays\u001b[0m \u001b[0;34m=\u001b[0m \u001b[0mlist\u001b[0m\u001b[0;34m(\u001b[0m\u001b[0marrays\u001b[0m\u001b[0;34m)\u001b[0m\u001b[0;34m\u001b[0m\u001b[0;34m\u001b[0m\u001b[0m\n\u001b[0m\u001b[1;32m    393\u001b[0m \u001b[0;34m\u001b[0m\u001b[0m\n\u001b[1;32m    394\u001b[0m     \u001b[0;32mif\u001b[0m \u001b[0mdata_vars\u001b[0m \u001b[0;34m!=\u001b[0m \u001b[0;34m\"all\"\u001b[0m\u001b[0;34m:\u001b[0m\u001b[0;34m\u001b[0m\u001b[0;34m\u001b[0m\u001b[0m\n",
      "\u001b[0;32m~/miniconda3/envs/py3_std/lib/python3.7/site-packages/xarray/core/groupby.py\u001b[0m in \u001b[0;36m_yield_binary_applied\u001b[0;34m(self, func, other)\u001b[0m\n\u001b[1;32m    490\u001b[0m                 \u001b[0mother_sel\u001b[0m \u001b[0;34m=\u001b[0m \u001b[0mdummy\u001b[0m\u001b[0;34m\u001b[0m\u001b[0;34m\u001b[0m\u001b[0m\n\u001b[1;32m    491\u001b[0m \u001b[0;34m\u001b[0m\u001b[0m\n\u001b[0;32m--> 492\u001b[0;31m             \u001b[0mresult\u001b[0m \u001b[0;34m=\u001b[0m \u001b[0mfunc\u001b[0m\u001b[0;34m(\u001b[0m\u001b[0mobj\u001b[0m\u001b[0;34m,\u001b[0m \u001b[0mother_sel\u001b[0m\u001b[0;34m)\u001b[0m\u001b[0;34m\u001b[0m\u001b[0;34m\u001b[0m\u001b[0m\n\u001b[0m\u001b[1;32m    493\u001b[0m             \u001b[0;32myield\u001b[0m \u001b[0mresult\u001b[0m\u001b[0;34m\u001b[0m\u001b[0;34m\u001b[0m\u001b[0m\n\u001b[1;32m    494\u001b[0m \u001b[0;34m\u001b[0m\u001b[0m\n",
      "\u001b[0;32m~/miniconda3/envs/py3_std/lib/python3.7/site-packages/xarray/core/dataarray.py\u001b[0m in \u001b[0;36mfunc\u001b[0;34m(self, other)\u001b[0m\n\u001b[1;32m   2507\u001b[0m             variable = (\n\u001b[1;32m   2508\u001b[0m                 \u001b[0mf\u001b[0m\u001b[0;34m(\u001b[0m\u001b[0mself\u001b[0m\u001b[0;34m.\u001b[0m\u001b[0mvariable\u001b[0m\u001b[0;34m,\u001b[0m \u001b[0mother_variable\u001b[0m\u001b[0;34m)\u001b[0m\u001b[0;34m\u001b[0m\u001b[0;34m\u001b[0m\u001b[0m\n\u001b[0;32m-> 2509\u001b[0;31m                 \u001b[0;32mif\u001b[0m \u001b[0;32mnot\u001b[0m \u001b[0mreflexive\u001b[0m\u001b[0;34m\u001b[0m\u001b[0;34m\u001b[0m\u001b[0m\n\u001b[0m\u001b[1;32m   2510\u001b[0m                 \u001b[0;32melse\u001b[0m \u001b[0mf\u001b[0m\u001b[0;34m(\u001b[0m\u001b[0mother_variable\u001b[0m\u001b[0;34m,\u001b[0m \u001b[0mself\u001b[0m\u001b[0;34m.\u001b[0m\u001b[0mvariable\u001b[0m\u001b[0;34m)\u001b[0m\u001b[0;34m\u001b[0m\u001b[0;34m\u001b[0m\u001b[0m\n\u001b[1;32m   2511\u001b[0m             )\n",
      "\u001b[0;32m~/miniconda3/envs/py3_std/lib/python3.7/site-packages/xarray/core/variable.py\u001b[0m in \u001b[0;36mfunc\u001b[0;34m(self, other)\u001b[0m\n\u001b[1;32m   1904\u001b[0m                 new_data = (\n\u001b[1;32m   1905\u001b[0m                     \u001b[0mf\u001b[0m\u001b[0;34m(\u001b[0m\u001b[0mself_data\u001b[0m\u001b[0;34m,\u001b[0m \u001b[0mother_data\u001b[0m\u001b[0;34m)\u001b[0m\u001b[0;34m\u001b[0m\u001b[0;34m\u001b[0m\u001b[0m\n\u001b[0;32m-> 1906\u001b[0;31m                     \u001b[0;32mif\u001b[0m \u001b[0;32mnot\u001b[0m \u001b[0mreflexive\u001b[0m\u001b[0;34m\u001b[0m\u001b[0;34m\u001b[0m\u001b[0m\n\u001b[0m\u001b[1;32m   1907\u001b[0m                     \u001b[0;32melse\u001b[0m \u001b[0mf\u001b[0m\u001b[0;34m(\u001b[0m\u001b[0mother_data\u001b[0m\u001b[0;34m,\u001b[0m \u001b[0mself_data\u001b[0m\u001b[0;34m)\u001b[0m\u001b[0;34m\u001b[0m\u001b[0;34m\u001b[0m\u001b[0m\n\u001b[1;32m   1908\u001b[0m                 )\n",
      "\u001b[0;31mKeyboardInterrupt\u001b[0m: "
     ]
    }
   ],
   "source": [
    "\n",
    "## TOS ## \n",
    "amp_atl3_std = np.ones((len(scenario_CMIP5),len(model_list_CMIP5),year_start.shape[0]))*np.nan\n",
    "for j in range(len(scenario_CMIP5)): ## loop on the scenarios\n",
    "        print(scenario_CMIP5[j])\n",
    "        for i in range(len(model_list_CMIP5)): ## loop on the models\n",
    "            print(model_list_CMIP5[i])\n",
    "            ## Take the historical data ##\n",
    "            print('ts.hist_rcp45.'+model_list_CMIP5[i]+'.r1i1p1.r144x72.ncts.hist_rcp45.'+model_list_CMIP5[i]+'.r1i1p1.r144x72.nc')\n",
    "            data_hist = xr.open_dataset(\n",
    "                data_cmip_hist_tos+'ts.hist_rcp45.'+model_list_CMIP5[i]+'.r1i1p1.r144x72.ncts.hist_rcp45.'+model_list_CMIP5[i]+'.r1i1p1.r144x72.nc',\n",
    "                decode_times=False)\n",
    "            time = pd.date_range('1900-01-15', freq='M', periods=data_hist.ts.shape[0])\n",
    "            data_hist['time'] = time\n",
    "            data_hist_new = data_hist.sel(time=slice(datetime(period_str_cmip5_hist, 1, 1),\n",
    "                                                         datetime(period_end_cmip5_hist, 12, 31)))\n",
    "            \n",
    "            ## Take the rcp45 data ##\n",
    "            if scenario_CMIP5[j]=='hist_rcp45': \n",
    "                data_rcp = xr.open_dataset(\n",
    "                data_cmip_hist_tos+'ts.'+scenario_CMIP5[j]+'.'+model_list_CMIP5[i]+'.r1i1p1.r144x72.ncts.'+scenario_CMIP5[j]+'.'+model_list_CMIP5[i]+'.r1i1p1.r144x72.nc',\n",
    "                decode_times=False)\n",
    "                time = pd.date_range('1900-01-15', freq='M', periods=data_rcp.ts.shape[0])\n",
    "                data_rcp['time'] = time\n",
    "                data_rcp_new = data_rcp.sel(time=slice(datetime(period_str_cmip5_rcp45, 1, 1),\n",
    "                                                         datetime(period_end_cmip5_rcp45, 12, 31)))\n",
    "               \n",
    "            ## Take the rcp85 data ##\n",
    "            elif scenario_CMIP5[j]=='rcp85':\n",
    "                print('ts.rcp85.'+model_list_CMIP5[i]+'.r1i1p1.r144x72.ncts.rcp85.'+model_list_CMIP5[i]+'.r1i1p1.r144x72.nc')\n",
    "                data_rcp = xr.open_dataset(\n",
    "                data_cmip_rcp_tos+'ts.'+scenario_CMIP5[j]+'.'+model_list_CMIP5[i]+'.r1i1p1.r144x72.ncts.'+scenario_CMIP5[j]+'.'+model_list_CMIP5[i]+'.r1i1p1.r144x72.nc',\n",
    "                decode_times=False)\n",
    "                time = pd.date_range('2006-01-15', freq='M', periods=data_rcp.ts.shape[0])\n",
    "                data_rcp['time'] = time\n",
    "                data_rcp_new = data_rcp.sel(time=slice(datetime(period_str_cmip5_rcp45, 1, 1),\n",
    "                                                         datetime(period_end_cmip5_rcp45, 12, 31)))\n",
    "                \n",
    "            ## Average over the ATL3 box ##\n",
    "            sst_hist_atl3 = make_sst_atl3(data_hist_new)\n",
    "            sst_rcp_atl3 = make_sst_atl3(data_rcp_new)\n",
    "            \n",
    "            ## concatenate the historical and the scenario runs ##\n",
    "            sst_all_atl3 = xr.concat([sst_hist_atl3,sst_rcp_atl3],dim='time')\n",
    "            \n",
    "            ## Compute the 31- year running standard deviation of the ATL3-averaged SST anomalies ##\n",
    "            print('start running mean')\n",
    "            for k in range(170):\n",
    "                #print(j)\n",
    "                amp_atl3_std[j,i,k] = compute_atl3_amplitude(sst_all_atl3,year_start[k],year_end[k])\n",
    "            print(' ')"
   ]
  },
  {
   "cell_type": "markdown",
   "metadata": {},
   "source": [
    "# save the data into a netcdf file"
   ]
  },
  {
   "cell_type": "code",
   "execution_count": 19,
   "metadata": {},
   "outputs": [],
   "source": [
    "\n",
    "scenario_CMIP5_new=['rcp45','rcp85']\n",
    "time_new = pd.date_range('1915-06-01',freq='Y',periods=170)\n",
    "running_mean_atl3_tmp = xr.Dataset({'amp_ATL3': (['scenario','model','time'], amp_atl3_std),\n",
    "                               },\n",
    "                      coords={'scenario': np.array(scenario_CMIP5_new),\n",
    "                              'model': np.array(model_list_CMIP5),\n",
    "                              'time':time_new} )\n",
    "running_mean_atl3_tmp.to_netcdf(path_data_out+'ATL3_amplitude_CMIP5.nc')"
   ]
  },
  {
   "cell_type": "code",
   "execution_count": null,
   "metadata": {},
   "outputs": [],
   "source": []
  }
 ],
 "metadata": {
  "kernelspec": {
   "display_name": "Python [conda env:py3_std]",
   "language": "python",
   "name": "conda-env-py3_std-py"
  },
  "language_info": {
   "codemirror_mode": {
    "name": "ipython",
    "version": 3
   },
   "file_extension": ".py",
   "mimetype": "text/x-python",
   "name": "python",
   "nbconvert_exporter": "python",
   "pygments_lexer": "ipython3",
   "version": "3.7.3"
  }
 },
 "nbformat": 4,
 "nbformat_minor": 5
}
