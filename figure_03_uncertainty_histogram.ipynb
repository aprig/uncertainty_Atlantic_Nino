{
 "cells": [
  {
   "cell_type": "code",
   "execution_count": 1,
   "metadata": {},
   "outputs": [],
   "source": [
    "# Author: Arthur Prigent\n",
    "# Email: aprigent@geomar.de"
   ]
  },
  {
   "cell_type": "code",
   "execution_count": 2,
   "metadata": {},
   "outputs": [],
   "source": [
    "import xarray as xr \n",
    "#import xgcm \n",
    "import numpy as np\n",
    "import matplotlib.pyplot as plt\n",
    "\n",
    "from pathlib import Path\n",
    "import glob\n",
    "import cartopy.crs as ccrs\n",
    "import warnings\n",
    "warnings.filterwarnings('ignore')\n",
    "import matplotlib.ticker as mticker\n",
    "import cartopy\n",
    "from scipy import stats\n",
    "import pandas as pd\n",
    "import matplotlib.dates as mdates\n",
    "from datetime import datetime\n",
    "now = datetime.now()\n",
    "def data_sub(data,lon_min,lon_max,lat_min,lat_max):\n",
    "    \n",
    "    '''Define a box between lon_min lon_max lat_min and lat_max and \n",
    "    extract the data in the box and drop everything else.\n",
    "    \n",
    "    \n",
    "    Parameters\n",
    "    ----------\n",
    "    \n",
    "    data : xarray_like\n",
    "    Data to be subdomained. \n",
    "    \n",
    "    lon_min : integer\n",
    "    Longitude minimum of the subdomain\n",
    "    \n",
    "    lon_max : integer\n",
    "    Longitude maximum of the subdomain\n",
    "    \n",
    "    lat_min : integer\n",
    "    Latitude minimum of the subdomain\n",
    "    \n",
    "    lat_max : integer\n",
    "    Latitude maximum of the subdomain\n",
    "    \n",
    "    Returns\n",
    "    ---------\n",
    "    \n",
    "    data_sub : xarray_like\n",
    "    Subdomain. \n",
    "    '''\n",
    "    \n",
    "    try:\n",
    "        data_sub = data.where((  data.lon>=lon_min) & (data.lon<=lon_max) & (data.lat<=lat_max) & (data.lat>=lat_min),\n",
    "                                                                          drop=True)\n",
    "    except AttributeError:\n",
    "        try:\n",
    "            data_sub = data.where((  data.nav_lon>=lon_min) & (data.nav_lon<=lon_max) & (data.nav_lat<=lat_max) & (data.nav_lat>=lat_min),drop=True)\n",
    "        except AttributeError:\n",
    "            try:\n",
    "                data_sub = data.where((  data.longitude>=lon_min) & (data.longitude<=lon_max) & (data.latitude<=lat_max) & (data.latitude>=lat_min),drop=True)\n",
    "            except AttributeError:\n",
    "                try:\n",
    "                    data_sub = data.where((  data.x>=lon_min) & (data.x<=lon_max) & (data.y<=lat_max) &\n",
    "                                      (data.y>=lat_min),drop=True)\n",
    "                except AttributeError:\n",
    "                    data_sub = data.where((  data.LON>=lon_min) & (data.LON<=lon_max) & (data.LAT<=lat_max) &\n",
    "                                      (data.LAT>=lat_min),drop=True)\n",
    "            \n",
    "    \n",
    "\n",
    " \n",
    "    \n",
    "    return data_sub\n",
    "import scipy.optimize as sc_o\n",
    "\n",
    "\n",
    "def nandetrend(y):\n",
    "    ''' Remove the linear trend from the data '''\n",
    "    \n",
    "    x = np.arange(0,y.shape[0],1)\n",
    "    m, b, r_val, p_val, std_err = stats.linregress(x,np.array(y))\n",
    "    y_detrended= np.array(y) - m*x -b\n",
    "    return y_detrended\n",
    "\n",
    "\n"
   ]
  },
  {
   "cell_type": "code",
   "execution_count": 3,
   "metadata": {},
   "outputs": [],
   "source": [
    "model_list_CMIP5=['ACCESS1-0','ACCESS1-3','bcc-csm1-1-m','bcc-csm1-1','BNU-ESM',\n",
    "            'CanESM2','CCSM4','CESM1-BGC','CESM1-CAM5','CMCC-CM','CMCC-CMS','CNRM-CM5','CSIRO-Mk3-6-0',\n",
    "            'FGOALS-g2','GFDL-CM3','GFDL-ESM2G','GFDL-ESM2M','GISS-E2-H-CC','GISS-E2-H',\n",
    "            'GISS-E2-R-CC','GISS-E2-R','HadGEM2-CC','HadGEM2-ES','inmcm4','IPSL-CM5A-LR','IPSL-CM5A-MR','IPSL-CM5B-LR',\n",
    "            'MIROC-ESM-CHEM','MIROC-ESM','MIROC5','MPI-ESM-LR','MPI-ESM-MR','MRI-CGCM3','NorESM1-M','NorESM1-ME']\n",
    "\n",
    "scenario_CMIP5=['rcp45','rcp85']\n",
    "\n",
    "\n",
    "model_list_CMIP6=['ACCESS-CM2','ACCESS-ESM1-5','AWI-CM-1-1-MR','BCC-CSM2-MR','CAMS-CSM1-0',\n",
    "            'CESM2-WACCM','FGOALS-f3-L','FGOALS-g3','GFDL-CM4','GFDL-ESM4','INM-CM4-8',\n",
    "            'INM-CM5-0','IPSL-CM6A-LR','MIROC6','MPI-ESM1-2-HR','MPI-ESM1-2-LR','MRI-ESM2-0','NESM3',\n",
    "            'NorESM2-LM','NorESM2-MM']\n",
    "\n",
    "scenario_CMIP6=['ssp245','ssp585']\n",
    "model_all = np.hstack([model_list_CMIP5,model_list_CMIP6])\n",
    "\n",
    "\n",
    "path_fig='/data/user/aprigent/projects/uncertainty_ATL3_ABA/figures/'\n",
    "path_data_out = '/data/user/aprigent/projects/uncertainty_ATL3_ABA/data/'\n",
    "\n"
   ]
  },
  {
   "cell_type": "markdown",
   "metadata": {},
   "source": [
    "x = x(s,m,t) with x representing the Atlantic Nino amplitude\n",
    "\n",
    "X is the low-pass filtered values of Atlantic Nino amplitude, X$_{f}$ is the long-term trend and $\\epsilon$ the internal long-term variability\n",
    "\n",
    "X(s,m,t) = X$_{f}$(s,m,t) + $\\epsilon$(s,m,t) hecne the dimension are s = 3, i.e. 3 scenarios, m =19, 19 models."
   ]
  },
  {
   "cell_type": "code",
   "execution_count": 4,
   "metadata": {},
   "outputs": [],
   "source": [
    "running_mean_atl3_tmp_cmip5 = xr.open_dataset(path_data_out+'ATL3_amplitude_CMIP5.nc')\n",
    "running_mean_atl3_tmp_cmip5['scenario'] = scenario_CMIP6\n",
    "running_mean_atl3_tmp_cmip6 = xr.open_dataset(path_data_out+'ATL3_amplitude_CMIP6.nc')\n",
    "running_mean_atl3_tmp = xr.concat([running_mean_atl3_tmp_cmip5,running_mean_atl3_tmp_cmip6],dim='model')\n",
    "\n",
    "running_mean_atl3 = running_mean_atl3_tmp.sel(time=slice(datetime(1900, 1, 1),datetime(2085, 12, 31)))\n",
    "\n",
    "\n",
    "running_mean_atl3_cmip5 = running_mean_atl3_tmp_cmip5.sel(time=slice(datetime(1900, 1, 1),datetime(2085, 12, 31)))\n",
    "running_mean_atl3_cmip6 = running_mean_atl3_tmp_cmip6.sel(time=slice(datetime(1900, 1, 1),datetime(2085, 12, 31)))"
   ]
  },
  {
   "cell_type": "markdown",
   "metadata": {},
   "source": [
    "# Compute X$_{f}$(s,m,t)"
   ]
  },
  {
   "cell_type": "markdown",
   "metadata": {},
   "source": [
    "X$_{f}$ is estimated via a polynomial fit calculated over 1900-2099. "
   ]
  },
  {
   "cell_type": "code",
   "execution_count": 5,
   "metadata": {},
   "outputs": [],
   "source": [
    "\n",
    "X = np.arange(0,running_mean_atl3.amp_ATL3.shape[2],1)\n",
    "Xf_tmp = np.ones((running_mean_atl3.amp_ATL3.shape))*np.nan\n",
    "for i in range(Xf_tmp.shape[0]):\n",
    "    for j in range(Xf_tmp.shape[1]):\n",
    "        Y = running_mean_atl3.amp_ATL3[i,j,:]\n",
    "        p2 = np.polyfit(X,Y,deg=2)\n",
    "        p3 = np.polyfit(X,Y,deg=3)\n",
    "        p4 = np.polyfit(X,Y,deg=4)\n",
    "        p5 = np.polyfit(X,Y,deg=5)\n",
    "\n",
    "        Xf_n2 = np.polyval(p2,X)\n",
    "        Xf_n3 = np.polyval(p3,X)\n",
    "        Xf_n4 = np.polyval(p4,X)\n",
    "        Xf_n5 = np.polyval(p5,X)\n",
    "\n",
    "        Xf_tmp[i,j,:] = Xf_n2\n",
    "        \n",
    "        \n",
    "        \n",
    "        \n",
    "X_cmip5 = np.arange(0,running_mean_atl3_cmip5.amp_ATL3.shape[2],1)\n",
    "Xf_tmp_cmip5 = np.ones((running_mean_atl3_cmip5.amp_ATL3.shape))*np.nan\n",
    "for i in range(Xf_tmp_cmip5.shape[0]):\n",
    "    for j in range(Xf_tmp_cmip5.shape[1]):\n",
    "        Y = running_mean_atl3_cmip5.amp_ATL3[i,j,:]\n",
    "        p2 = np.polyfit(X_cmip5,Y,deg=2)\n",
    "        p3 = np.polyfit(X_cmip5,Y,deg=3)\n",
    "        p4 = np.polyfit(X_cmip5,Y,deg=4)\n",
    "        p5 = np.polyfit(X_cmip5,Y,deg=5)\n",
    "\n",
    "        Xf_n2 = np.polyval(p2,X_cmip5)\n",
    "        Xf_n3 = np.polyval(p3,X_cmip5)\n",
    "        Xf_n4 = np.polyval(p4,X_cmip5)\n",
    "        Xf_n5 = np.polyval(p5,X_cmip5)\n",
    "\n",
    "        Xf_tmp_cmip5[i,j,:] = Xf_n2\n",
    "        \n",
    "        \n",
    "        \n",
    "X_cmip6 = np.arange(0,running_mean_atl3_cmip6.amp_ATL3.shape[2],1)\n",
    "Xf_tmp_cmip6 = np.ones((running_mean_atl3_cmip6.amp_ATL3.shape))*np.nan\n",
    "for i in range(Xf_tmp_cmip6.shape[0]):\n",
    "    for j in range(Xf_tmp_cmip6.shape[1]):\n",
    "        Y = running_mean_atl3_cmip6.amp_ATL3[i,j,:]\n",
    "        p2 = np.polyfit(X_cmip6,Y,deg=2)\n",
    "        p3 = np.polyfit(X_cmip6,Y,deg=3)\n",
    "        p4 = np.polyfit(X_cmip6,Y,deg=4)\n",
    "        p5 = np.polyfit(X_cmip6,Y,deg=5)\n",
    "\n",
    "        Xf_n2 = np.polyval(p2,X_cmip6)\n",
    "        Xf_n3 = np.polyval(p3,X_cmip6)\n",
    "        Xf_n4 = np.polyval(p4,X_cmip6)\n",
    "        Xf_n5 = np.polyval(p5,X_cmip6)\n",
    "\n",
    "        Xf_tmp_cmip6[i,j,:] = Xf_n2"
   ]
  },
  {
   "cell_type": "code",
   "execution_count": 6,
   "metadata": {},
   "outputs": [],
   "source": [
    "Xf = xr.Dataset({'Xf': (['scenario','model','time'], Xf_tmp),\n",
    "                               },\n",
    "                      coords={'scenario': np.array(scenario_CMIP6),\n",
    "                              'model': np.array(model_all),\n",
    "                              'time':running_mean_atl3.time} )\n",
    "\n",
    "\n",
    "\n",
    "Xf_cmip5 = xr.Dataset({'Xf': (['scenario','model','time'], Xf_tmp_cmip5),\n",
    "                               },\n",
    "                      coords={'scenario': np.array(scenario_CMIP6),\n",
    "                              'model': np.array(model_list_CMIP5),\n",
    "                              'time':running_mean_atl3_cmip5.time} )\n",
    "\n",
    "\n",
    "Xf_cmip6 = xr.Dataset({'Xf': (['scenario','model','time'], Xf_tmp_cmip6),\n",
    "                               },\n",
    "                      coords={'scenario': np.array(scenario_CMIP6),\n",
    "                              'model': np.array(model_list_CMIP6),\n",
    "                              'time':running_mean_atl3_cmip6.time} )"
   ]
  },
  {
   "cell_type": "markdown",
   "metadata": {},
   "source": [
    "# Compute $\\epsilon$(s,m,t)\n",
    "\n",
    "$\\epsilon$(s,m,t) = X(s,m,t) - X$_{f}$(s,m,t)"
   ]
  },
  {
   "cell_type": "code",
   "execution_count": 7,
   "metadata": {},
   "outputs": [],
   "source": [
    "epsilon_tmp = np.ones((running_mean_atl3.amp_ATL3.shape))*np.nan\n",
    "for j in range(epsilon_tmp.shape[0]):\n",
    "    for i in range(epsilon_tmp.shape[1]):\n",
    "        epsilon_tmp[j,i,:] = running_mean_atl3.amp_ATL3[j,i,:] - Xf.Xf[j,i,:]\n",
    "    \n",
    "    \n",
    "    \n",
    "epsilon_tmp_cmip5 = np.ones((running_mean_atl3_cmip5.amp_ATL3.shape))*np.nan\n",
    "for j in range(epsilon_tmp_cmip5.shape[0]):\n",
    "    for i in range(epsilon_tmp_cmip5.shape[1]):\n",
    "        epsilon_tmp_cmip5[j,i,:] = running_mean_atl3_cmip5.amp_ATL3[j,i,:] - Xf_cmip5.Xf[j,i,:]\n",
    "\n",
    "        \n",
    "epsilon_tmp_cmip6 = np.ones((running_mean_atl3_cmip6.amp_ATL3.shape))*np.nan\n",
    "for j in range(epsilon_tmp_cmip6.shape[0]):\n",
    "    for i in range(epsilon_tmp_cmip6.shape[1]):\n",
    "        epsilon_tmp_cmip6[j,i,:] = running_mean_atl3_cmip6.amp_ATL3[j,i,:] - Xf_cmip6.Xf[j,i,:]\n",
    "    "
   ]
  },
  {
   "cell_type": "code",
   "execution_count": 8,
   "metadata": {},
   "outputs": [],
   "source": [
    "epsilon = xr.Dataset({'eps': (['scenario','model','time'], epsilon_tmp),\n",
    "                               },\n",
    "                      coords={'scenario': np.array(scenario_CMIP6),\n",
    "                              'model': np.array(model_all),\n",
    "                              'time':running_mean_atl3.time} )\n",
    "\n",
    "\n",
    "\n",
    "epsilon_cmip5 = xr.Dataset({'eps': (['scenario','model','time'], epsilon_tmp_cmip5),\n",
    "                               },\n",
    "                      coords={'scenario': np.array(scenario_CMIP6),\n",
    "                              'model': np.array(model_list_CMIP5),\n",
    "                              'time':running_mean_atl3_cmip5.time} )\n",
    "\n",
    "\n",
    "\n",
    "epsilon_cmip6 = xr.Dataset({'eps': (['scenario','model','time'], epsilon_tmp_cmip6),\n",
    "                               },\n",
    "                      coords={'scenario': np.array(scenario_CMIP6),\n",
    "                              'model': np.array(model_list_CMIP6),\n",
    "                              'time':running_mean_atl3_cmip6.time} )"
   ]
  },
  {
   "cell_type": "markdown",
   "metadata": {},
   "source": [
    "# Compute x$_{f}$(s,m,t) \n",
    "\n",
    "\n",
    "x$_{f}$(s,m,t) = X$_{f}$(s,m,t) - i(s,m) \n",
    "with x$_{f}$(s,m,t) the response of anthropogenic forcing over the period 2005-2099\n",
    "\n",
    "i(s,m) is the historical average taken over the period 1979-2005"
   ]
  },
  {
   "cell_type": "code",
   "execution_count": 9,
   "metadata": {},
   "outputs": [],
   "source": [
    "Xfp = Xf.sel(time=slice(datetime(2005, 1, 1),datetime(2085, 12, 31)))\n",
    "hist_mean = running_mean_atl3.amp_ATL3.sel(time=slice(datetime(1979, 1, 1),datetime(2005, 12, 31))).mean(dim='time')\n",
    "\n",
    "Xfp_cmip5 = Xf_cmip5.sel(time=slice(datetime(2005, 1, 1),datetime(2085, 12, 31)))\n",
    "hist_mean_cmip5 = running_mean_atl3_cmip5.amp_ATL3.sel(time=slice(datetime(1979, 1, 1),datetime(2005, 12, 31))).mean(dim='time')\n",
    "\n",
    "Xfp_cmip6 = Xf_cmip6.sel(time=slice(datetime(2005, 1, 1),datetime(2085, 12, 31)))\n",
    "hist_mean_cmip6 = running_mean_atl3_cmip6.amp_ATL3.sel(time=slice(datetime(1979, 1, 1),datetime(2005, 12, 31))).mean(dim='time')"
   ]
  },
  {
   "cell_type": "code",
   "execution_count": 10,
   "metadata": {},
   "outputs": [],
   "source": [
    "xf = np.ones((Xfp.Xf.shape))*np.nan\n",
    "for j in range(xf.shape[0]):\n",
    "    for i in range(xf.shape[1]):\n",
    "        xf[j,i,:] = Xfp.Xf[j,i,:] - hist_mean[j,i]\n",
    "    \n",
    "    \n",
    "    \n",
    "xf_cmip5 = np.ones((Xfp_cmip5.Xf.shape))*np.nan\n",
    "for j in range(xf_cmip5.shape[0]):\n",
    "    for i in range(xf_cmip5.shape[1]):\n",
    "        xf_cmip5[j,i,:] = Xfp_cmip5.Xf[j,i,:] - hist_mean_cmip5[j,i]\n",
    "    \n",
    "    \n",
    "    \n",
    "xf_cmip6 = np.ones((Xfp_cmip6.Xf.shape))*np.nan\n",
    "for j in range(xf_cmip6.shape[0]):\n",
    "    for i in range(xf_cmip6.shape[1]):\n",
    "        xf_cmip6[j,i,:] = Xfp_cmip6.Xf[j,i,:] - hist_mean_cmip6[j,i]\n",
    "    "
   ]
  },
  {
   "cell_type": "markdown",
   "metadata": {},
   "source": [
    "# Compute M(t) model uncertainty \n",
    "\n",
    "M(t) = 1/N$_{s}$ $\\sum_{s}$ std$_m$(x$_{f}$(s,m,t))"
   ]
  },
  {
   "cell_type": "code",
   "execution_count": 11,
   "metadata": {},
   "outputs": [],
   "source": [
    "M = np.nanmean(np.nanstd(xf,1),0)\n",
    "\n",
    "M_cmip5 = np.nanmean(np.nanstd(xf_cmip5,1),0)\n",
    "M_cmip6 = np.nanmean(np.nanstd(xf_cmip6,1),0)"
   ]
  },
  {
   "cell_type": "markdown",
   "metadata": {},
   "source": [
    "# Compute S(t) scenario uncertainty\n",
    "\n",
    "S(t) =std$_s$( 1/N$_{m}$( $\\sum_{m}$ x$_{f}$(s,m,t))"
   ]
  },
  {
   "cell_type": "code",
   "execution_count": 12,
   "metadata": {},
   "outputs": [],
   "source": [
    "S = np.nanstd(np.nanmean(xf,1),0)\n",
    "S_cmip5 = np.nanstd(np.nanmean(xf_cmip5,1),0)\n",
    "S_cmip6 = np.nanstd(np.nanmean(xf_cmip6,1),0)\n"
   ]
  },
  {
   "cell_type": "markdown",
   "metadata": {},
   "source": [
    "# Compute I(t) internal variability uncertainty\n",
    "\n",
    "I(t) =1/N$_{s}$ $\\sum_{s}$ 1/N$_{m}$ $\\sum_{m}$ std$_t$($\\epsilon$(s,m,t))"
   ]
  },
  {
   "cell_type": "code",
   "execution_count": 13,
   "metadata": {},
   "outputs": [],
   "source": [
    "I_tmp = (epsilon.std(dim='time')).mean(dim='model').mean(dim='scenario')\n",
    "I_tmp_cmip5 = (epsilon_cmip5.std(dim='time')).mean(dim='model').mean(dim='scenario')\n",
    "I_tmp_cmip6 = (epsilon_cmip6.std(dim='time')).mean(dim='model').mean(dim='scenario')\n",
    "\n",
    "I = np.ones((S.shape[0]))*I_tmp.eps.values\n",
    "I_cmip5 = np.ones((S_cmip5.shape[0]))*I_tmp_cmip5.eps.values\n",
    "I_cmip6 = np.ones((S_cmip6.shape[0]))*I_tmp_cmip6.eps.values"
   ]
  },
  {
   "cell_type": "code",
   "execution_count": 14,
   "metadata": {},
   "outputs": [],
   "source": [
    "T = M+S+I\n",
    "T_cmip5 = M_cmip5+S_cmip5+I_cmip5\n",
    "T_cmip6 = M_cmip6+S_cmip6+I_cmip6\n"
   ]
  },
  {
   "cell_type": "code",
   "execution_count": null,
   "metadata": {},
   "outputs": [],
   "source": []
  },
  {
   "cell_type": "code",
   "execution_count": 15,
   "metadata": {},
   "outputs": [],
   "source": [
    "uncertainties_low = xr.open_dataset(path_data_out+'uncertainties_MSI_low.nc')\n",
    "uncertainties_med = xr.open_dataset(path_data_out+'uncertainties_MSI_med.nc')\n",
    "uncertainties_top = xr.open_dataset(path_data_out+'uncertainties_MSI_top.nc')"
   ]
  },
  {
   "cell_type": "code",
   "execution_count": 16,
   "metadata": {},
   "outputs": [],
   "source": [
    "T_low = uncertainties_low.M_low[-1] + uncertainties_low.S_low[-1] + uncertainties_low.I_low[-1]\n",
    "T_med = uncertainties_med.M_med[-1] + uncertainties_med.S_med[-1] + uncertainties_med.I_med[-1]\n",
    "T_top = uncertainties_top.M_top[-1] + uncertainties_top.S_top[-1] + uncertainties_top.I_top[-1]"
   ]
  },
  {
   "cell_type": "markdown",
   "metadata": {},
   "source": [
    "# Figure"
   ]
  },
  {
   "cell_type": "code",
   "execution_count": 17,
   "metadata": {},
   "outputs": [
    {
     "data": {
      "image/png": "[encoded data removed]",
      "text/plain": [
       "<Figure size 720x720 with 1 Axes>"
      ]
     },
     "metadata": {
      "needs_background": "light"
     },
     "output_type": "display_data"
    }
   ],
   "source": [
    "f,ax = plt.subplots(1,1,figsize=[10,10])\n",
    "ftz=15\n",
    "\n",
    "\n",
    "\n",
    "ax.bar(0,T[-1],color='black',width=0.5,edgecolor='black',label='Total')\n",
    "ax.bar(0.5,M[-1],color='grey',width=0.5,edgecolor='black',label='Model')\n",
    "ax.bar(1,I[-1],color='blue',width=0.5,edgecolor='black',label='Internal')\n",
    "ax.bar(1.5,S[-1],color='purple',width=0.5,edgecolor='black',label='Scenario')\n",
    "\n",
    "\n",
    "ax.bar(2.5,T_cmip5[-1],color='black',width=0.5,edgecolor='black')\n",
    "ax.bar(3,M_cmip5[-1],color='grey',width=0.5,edgecolor='black')\n",
    "ax.bar(3.5,I_cmip5[-1],color='blue',width=0.5,edgecolor='black')\n",
    "ax.bar(4,S_cmip5[-1],color='purple',width=0.5,edgecolor='black')\n",
    "\n",
    "\n",
    "\n",
    "ax.bar(5,T_cmip6[-1],color='black',width=0.5,edgecolor='black')\n",
    "ax.bar(5.5,M_cmip6[-1],color='grey',width=0.5,edgecolor='black')\n",
    "ax.bar(6,I_cmip6[-1],color='blue',width=0.5,edgecolor='black')\n",
    "ax.bar(6.5,S_cmip6[-1],color='purple',width=0.5,edgecolor='black')\n",
    "\n",
    "\n",
    "\n",
    "#ax.bar(7.5,T_low,color='black',width=0.5,edgecolor='black')\n",
    "#ax.bar(8,uncertainties_low.M_low[-1],color='grey',width=0.5,edgecolor='black')\n",
    "#ax.bar(8.5,uncertainties_low.I_low[-1],color='blue',width=0.5,edgecolor='black')\n",
    "#ax.bar(9,uncertainties_low.S_low[-1],color='purple',width=0.5,edgecolor='black')\n",
    "#\n",
    "#\n",
    "#\n",
    "#ax.bar(10,T_med,color='black',width=0.5,edgecolor='black')\n",
    "#ax.bar(10.5,uncertainties_med.M_med[-1],color='grey',width=0.5,edgecolor='black')\n",
    "#ax.bar(11,uncertainties_med.I_med[-1],color='blue',width=0.5,edgecolor='black')\n",
    "#ax.bar(11.5,uncertainties_med.S_med[-1],color='purple',width=0.5,edgecolor='black')\n",
    "#\n",
    "#\n",
    "#ax.bar(12.5,T_top,color='black',width=0.5,edgecolor='black')\n",
    "#ax.bar(13,uncertainties_top.M_top[-1],color='grey',width=0.5,edgecolor='black')\n",
    "#ax.bar(13.5,uncertainties_top.I_top[-1],color='blue',width=0.5,edgecolor='black')\n",
    "#ax.bar(14,uncertainties_top.S_top[-1],color='purple',width=0.5,edgecolor='black')\n",
    "\n",
    "\n",
    "ax.legend(fontsize=ftz)\n",
    "\n",
    "\n",
    "ax.set_ylabel('Uncertainty ($^{\\circ}$C)',fontsize=ftz)\n",
    "ax.tick_params(labelsize=ftz)\n",
    "\n",
    "ax.tick_params(labelbottom=False, labeltop=False, labelleft=True, labelright=False,\n",
    "                     bottom=False, top=False, left=True, right=True,length=5,direction='in')\n",
    "\n",
    "ax.text(0.75,-0.005,'All',fontsize=ftz,ha='center',va='center')\n",
    "ax.text(3.25,-0.005,'CMIP5',fontsize=ftz,ha='center',va='center')\n",
    "ax.text(5.75,-0.005,'CMIP6',fontsize=ftz,ha='center',va='center')\n",
    "\n",
    "#ax.text(8.25,-0.005,'low',fontsize=ftz,ha='center',va='center')\n",
    "#ax.text(10.75,-0.005,'moderate',fontsize=ftz,ha='center',va='center')\n",
    "#ax.text(13.25,-0.005,'top',fontsize=ftz,ha='center',va='center')\n",
    "\n",
    "\n",
    "\n",
    "plt.savefig(path_fig + 'figure_03_uncertainty_ALL_CMIP5_CMIP6.png',\n",
    "             dpi = 300,\n",
    "            bbox_inches='tight')"
   ]
  },
  {
   "cell_type": "code",
   "execution_count": 95,
   "metadata": {},
   "outputs": [
    {
     "name": "stdout",
     "output_type": "stream",
     "text": [
      "Model uncertainty 2085 CMIP5: 0.068\n",
      "Internal uncertainty 2085 CMIP5: 0.023\n",
      "Scenario uncertainty 2085 CMIP5: 0.008\n",
      "Total uncertainty 2085 CMIP5: 0.099\n"
     ]
    }
   ],
   "source": [
    "print('Model uncertainty 2085 CMIP5:',np.round(M_cmip5[-1],3))\n",
    "print('Internal uncertainty 2085 CMIP5:',np.round(I_cmip5[-1],3))\n",
    "print('Scenario uncertainty 2085 CMIP5:',np.round(S_cmip5[-1],3))\n",
    "\n",
    "print('Total uncertainty 2085 CMIP5:',np.round(M_cmip5[-1]+I_cmip5[-1]+S_cmip5[-1],3))"
   ]
  },
  {
   "cell_type": "code",
   "execution_count": 96,
   "metadata": {},
   "outputs": [
    {
     "name": "stdout",
     "output_type": "stream",
     "text": [
      "Model uncertainty 2085 CMIP6: 0.041\n",
      "Internal uncertainty 2085 CMIP6: 0.025\n",
      "Scenario uncertainty 2085 CMIP6: 0.002\n",
      "Total uncertainty 2085 CMIP6: 0.069\n"
     ]
    }
   ],
   "source": [
    "print('Model uncertainty 2085 CMIP6:',np.round(M_cmip6[-1],3))\n",
    "print('Internal uncertainty 2085 CMIP6:',np.round(I_cmip6[-1],3))\n",
    "print('Scenario uncertainty 2085 CMIP6:',np.round(S_cmip6[-1],3))\n",
    "\n",
    "print('Total uncertainty 2085 CMIP6:',np.round(M_cmip6[-1]+I_cmip6[-1]+S_cmip6[-1],3))"
   ]
  },
  {
   "cell_type": "code",
   "execution_count": null,
   "metadata": {},
   "outputs": [],
   "source": []
  }
 ],
 "metadata": {
  "kernelspec": {
   "display_name": "Python [conda env:py3_std]",
   "language": "python",
   "name": "conda-env-py3_std-py"
  },
  "language_info": {
   "codemirror_mode": {
    "name": "ipython",
    "version": 3
   },
   "file_extension": ".py",
   "mimetype": "text/x-python",
   "name": "python",
   "nbconvert_exporter": "python",
   "pygments_lexer": "ipython3",
   "version": "3.7.3"
  }
 },
 "nbformat": 4,
 "nbformat_minor": 5
}
