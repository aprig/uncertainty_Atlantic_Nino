{
 "cells": [
  {
   "cell_type": "code",
   "execution_count": 1,
   "metadata": {},
   "outputs": [],
   "source": [
    "# Author: Arthur Prigent\n",
    "# Email: aprigent@geomar.de"
   ]
  },
  {
   "cell_type": "code",
   "execution_count": 2,
   "metadata": {},
   "outputs": [],
   "source": [
    "import xarray as xr \n",
    "#import xgcm \n",
    "import numpy as np\n",
    "import matplotlib.pyplot as plt\n",
    "\n",
    "from pathlib import Path\n",
    "import glob\n",
    "import cartopy.crs as ccrs\n",
    "import warnings\n",
    "warnings.filterwarnings('ignore')\n",
    "import matplotlib.ticker as mticker\n",
    "import cartopy\n",
    "from scipy import stats\n",
    "import pandas as pd\n",
    "import matplotlib.dates as mdates\n",
    "from datetime import datetime\n",
    "now = datetime.now()\n",
    "def data_sub(data,lon_min,lon_max,lat_min,lat_max):\n",
    "    \n",
    "    '''Define a box between lon_min lon_max lat_min and lat_max and \n",
    "    extract the data in the box and drop everything else.\n",
    "    \n",
    "    \n",
    "    Parameters\n",
    "    ----------\n",
    "    \n",
    "    data : xarray_like\n",
    "    Data to be subdomained. \n",
    "    \n",
    "    lon_min : integer\n",
    "    Longitude minimum of the subdomain\n",
    "    \n",
    "    lon_max : integer\n",
    "    Longitude maximum of the subdomain\n",
    "    \n",
    "    lat_min : integer\n",
    "    Latitude minimum of the subdomain\n",
    "    \n",
    "    lat_max : integer\n",
    "    Latitude maximum of the subdomain\n",
    "    \n",
    "    Returns\n",
    "    ---------\n",
    "    \n",
    "    data_sub : xarray_like\n",
    "    Subdomain. \n",
    "    '''\n",
    "    \n",
    "    try:\n",
    "        data_sub = data.where((  data.lon>=lon_min) & (data.lon<=lon_max) & (data.lat<=lat_max) & (data.lat>=lat_min),\n",
    "                                                                          drop=True)\n",
    "    except AttributeError:\n",
    "        try:\n",
    "            data_sub = data.where((  data.nav_lon>=lon_min) & (data.nav_lon<=lon_max) & (data.nav_lat<=lat_max) & (data.nav_lat>=lat_min),drop=True)\n",
    "        except AttributeError:\n",
    "            try:\n",
    "                data_sub = data.where((  data.longitude>=lon_min) & (data.longitude<=lon_max) & (data.latitude<=lat_max) & (data.latitude>=lat_min),drop=True)\n",
    "            except AttributeError:\n",
    "                try:\n",
    "                    data_sub = data.where((  data.x>=lon_min) & (data.x<=lon_max) & (data.y<=lat_max) &\n",
    "                                      (data.y>=lat_min),drop=True)\n",
    "                except AttributeError:\n",
    "                    data_sub = data.where((  data.LON>=lon_min) & (data.LON<=lon_max) & (data.LAT<=lat_max) &\n",
    "                                      (data.LAT>=lat_min),drop=True)\n",
    "            \n",
    "    \n",
    "\n",
    " \n",
    "    \n",
    "    return data_sub\n",
    "import scipy.optimize as sc_o\n",
    "\n",
    "\n",
    "def nandetrend(y):\n",
    "    ''' Remove the linear trend from the data '''\n",
    "    \n",
    "    x = np.arange(0,y.shape[0],1)\n",
    "    m, b, r_val, p_val, std_err = stats.linregress(x,np.array(y))\n",
    "    y_detrended= np.array(y) - m*x -b\n",
    "    return y_detrended\n",
    "\n",
    "\n"
   ]
  },
  {
   "cell_type": "markdown",
   "metadata": {},
   "source": [
    "# List of models and scenarios"
   ]
  },
  {
   "cell_type": "code",
   "execution_count": 3,
   "metadata": {},
   "outputs": [],
   "source": [
    "model_list_CMIP5=['ACCESS1-0','ACCESS1-3','bcc-csm1-1-m','bcc-csm1-1','BNU-ESM',\n",
    "            'CanESM2','CCSM4','CESM1-BGC','CESM1-CAM5','CMCC-CM','CMCC-CMS','CNRM-CM5','CSIRO-Mk3-6-0',\n",
    "            'FGOALS-g2','GFDL-CM3','GFDL-ESM2G','GFDL-ESM2M','GISS-E2-H-CC','GISS-E2-H',\n",
    "            'GISS-E2-R-CC','GISS-E2-R','HadGEM2-CC','HadGEM2-ES','inmcm4','IPSL-CM5A-LR','IPSL-CM5A-MR','IPSL-CM5B-LR',\n",
    "            'MIROC-ESM-CHEM','MIROC-ESM','MIROC5','MPI-ESM-LR','MPI-ESM-MR','MRI-CGCM3','NorESM1-M','NorESM1-ME']\n",
    "\n",
    "scenario_CMIP5=['rcp45','rcp85']\n",
    "\n",
    "\n",
    "model_list_CMIP6=['ACCESS-CM2','ACCESS-ESM1-5','AWI-CM-1-1-MR','BCC-CSM2-MR','CAMS-CSM1-0',\n",
    "            'CESM2-WACCM','FGOALS-f3-L','FGOALS-g3','GFDL-CM4','GFDL-ESM4','INM-CM4-8',\n",
    "            'INM-CM5-0','IPSL-CM6A-LR','MIROC6','MPI-ESM1-2-HR','MPI-ESM1-2-LR','MRI-ESM2-0','NESM3',\n",
    "            'NorESM2-LM','NorESM2-MM']\n",
    "\n",
    "scenario_CMIP6=['ssp245','ssp585']\n",
    "model_all = np.hstack([model_list_CMIP5,model_list_CMIP6])\n",
    "\n",
    "\n",
    "path_fig='/data/user/aprigent/projects/uncertainty_ATL3_ABA/figures/'\n",
    "path_data_out = '/data/user/aprigent/projects/uncertainty_ATL3_ABA/data/'\n",
    "\n"
   ]
  },
  {
   "cell_type": "markdown",
   "metadata": {},
   "source": [
    "x = x(s,m,t) with x representing the Atlantic Nino amplitude\n",
    "\n",
    "X is the low-pass filtered values of Atlantic Nino amplitude, X$_{f}$ is the long-term trend and $\\epsilon$ the internal long-term variability\n",
    "\n",
    "X(s,m,t) = X$_{f}$(s,m,t) + $\\epsilon$(s,m,t) hecne the dimension are s = 3, i.e. 3 scenarios, m =19, 19 models."
   ]
  },
  {
   "cell_type": "code",
   "execution_count": 4,
   "metadata": {},
   "outputs": [],
   "source": [
    "running_mean_atl3_tmp_cmip5 = xr.open_dataset(path_data_out+'ATL3_amplitude_CMIP5.nc')\n",
    "running_mean_atl3_tmp_cmip5['scenario'] = scenario_CMIP6\n",
    "running_mean_atl3_tmp_cmip6 = xr.open_dataset(path_data_out+'ATL3_amplitude_CMIP6.nc')\n",
    "\n",
    "running_mean_atl3_tmp = xr.concat([running_mean_atl3_tmp_cmip5,running_mean_atl3_tmp_cmip6],dim='model')\n",
    "\n",
    "running_mean_atl3 = running_mean_atl3_tmp.sel(time=slice(datetime(1900, 1, 1),datetime(2085, 12, 31)))"
   ]
  },
  {
   "cell_type": "markdown",
   "metadata": {},
   "source": [
    "# Compute X$_{f}$(s,m,t)"
   ]
  },
  {
   "cell_type": "markdown",
   "metadata": {},
   "source": [
    "X$_{f}$ is estimated via a polynomial fit calculated over 1900-2085. "
   ]
  },
  {
   "cell_type": "code",
   "execution_count": 5,
   "metadata": {},
   "outputs": [],
   "source": [
    "\n",
    "X = np.arange(0,running_mean_atl3.amp_ATL3.shape[2],1)\n",
    "Xf_tmp = np.ones((running_mean_atl3.amp_ATL3.shape))*np.nan\n",
    "for i in range(Xf_tmp.shape[0]):\n",
    "    for j in range(Xf_tmp.shape[1]):\n",
    "        Y = running_mean_atl3.amp_ATL3[i,j,:]\n",
    "        p2 = np.polyfit(X,Y,deg=2)\n",
    "        p3 = np.polyfit(X,Y,deg=3)\n",
    "        p4 = np.polyfit(X,Y,deg=4)\n",
    "        p5 = np.polyfit(X,Y,deg=5)\n",
    "\n",
    "        Xf_n2 = np.polyval(p2,X)\n",
    "        Xf_n3 = np.polyval(p3,X)\n",
    "        Xf_n4 = np.polyval(p4,X)\n",
    "        Xf_n5 = np.polyval(p5,X)\n",
    "\n",
    "        Xf_tmp[i,j,:] = Xf_n2"
   ]
  },
  {
   "cell_type": "code",
   "execution_count": 6,
   "metadata": {},
   "outputs": [],
   "source": [
    "Xf = xr.Dataset({'Xf': (['scenario','model','time'], Xf_tmp),\n",
    "                               },\n",
    "                      coords={'scenario': np.array(scenario_CMIP6),\n",
    "                              'model': np.array(model_all),\n",
    "                              'time':running_mean_atl3.time} )"
   ]
  },
  {
   "cell_type": "markdown",
   "metadata": {},
   "source": [
    "# Compute $\\epsilon$(s,m,t)\n",
    "\n",
    "$\\epsilon$(s,m,t) = X(s,m,t) - X$_{f}$(s,m,t)"
   ]
  },
  {
   "cell_type": "code",
   "execution_count": 9,
   "metadata": {},
   "outputs": [],
   "source": [
    "epsilon_tmp = np.ones((running_mean_atl3.amp_ATL3.shape))*np.nan\n",
    "for j in range(epsilon_tmp.shape[0]):\n",
    "    for i in range(epsilon_tmp.shape[1]):\n",
    "        epsilon_tmp[j,i,:] = running_mean_atl3.amp_ATL3[j,i,:] - Xf.Xf[j,i,:]\n",
    "    "
   ]
  },
  {
   "cell_type": "code",
   "execution_count": 11,
   "metadata": {},
   "outputs": [],
   "source": [
    "epsilon = xr.Dataset({'eps': (['scenario','model','time'], epsilon_tmp),\n",
    "                               },\n",
    "                      coords={'scenario': np.array(scenario_CMIP6),\n",
    "                              'model': np.array(model_all),\n",
    "                              'time':running_mean_atl3.time} )"
   ]
  },
  {
   "cell_type": "markdown",
   "metadata": {},
   "source": [
    "# Compute x$_{f}$(s,m,t) \n",
    "\n",
    "\n",
    "x$_{f}$(s,m,t) = X$_{f}$(s,m,t) - i(s,m) \n",
    "with x$_{f}$(s,m,t) the response of anthropogenic forcing over the period 2005-2085\n",
    "\n",
    "i(s,m) is the historical average taken over the period 1979-2005"
   ]
  },
  {
   "cell_type": "code",
   "execution_count": 13,
   "metadata": {},
   "outputs": [],
   "source": [
    "Xfp = Xf.sel(time=slice(datetime(2005, 1, 1),datetime(2085, 12, 31)))\n",
    "hist_mean = running_mean_atl3.amp_ATL3.sel(time=slice(datetime(1979, 1, 1),datetime(2005, 12, 31))).mean(dim='time')"
   ]
  },
  {
   "cell_type": "code",
   "execution_count": 14,
   "metadata": {},
   "outputs": [],
   "source": [
    "xf = np.ones((Xfp.Xf.shape))*np.nan\n",
    "for j in range(xf.shape[0]):\n",
    "    for i in range(xf.shape[1]):\n",
    "        xf[j,i,:] = Xfp.Xf[j,i,:] - hist_mean[j,i]\n",
    "    "
   ]
  },
  {
   "cell_type": "markdown",
   "metadata": {},
   "source": [
    "# Compute M(t) model uncertainty \n",
    "\n",
    "M(t) = 1/N$_{s}$ $\\sum_{s}$ std$_m$(x$_{f}$(s,m,t))"
   ]
  },
  {
   "cell_type": "code",
   "execution_count": 15,
   "metadata": {},
   "outputs": [],
   "source": [
    "M = np.nanmean(np.nanstd(xf,1),0)"
   ]
  },
  {
   "cell_type": "markdown",
   "metadata": {},
   "source": [
    "# Compute S(t) scenario uncertainty\n",
    "\n",
    "S(t) =std$_s$( 1/N$_{m}$( $\\sum_{m}$ x$_{f}$(s,m,t))"
   ]
  },
  {
   "cell_type": "code",
   "execution_count": 16,
   "metadata": {},
   "outputs": [],
   "source": [
    "S = np.nanstd(np.nanmean(xf,1),0)\n"
   ]
  },
  {
   "cell_type": "markdown",
   "metadata": {},
   "source": [
    "# Compute I(t) internal variability uncertainty\n",
    "\n",
    "I(t) =1/N$_{s}$ $\\sum_{s}$ 1/N$_{m}$ $\\sum_{m}$ std$_t$($\\epsilon$(s,m,t))"
   ]
  },
  {
   "cell_type": "code",
   "execution_count": 17,
   "metadata": {},
   "outputs": [],
   "source": [
    "I_tmp = (epsilon.std(dim='time')).mean(dim='model').mean(dim='scenario')\n",
    "I = np.ones((S.shape[0]))*I_tmp.eps.values"
   ]
  },
  {
   "cell_type": "code",
   "execution_count": 18,
   "metadata": {},
   "outputs": [],
   "source": [
    "T = M+S+I\n",
    "\n",
    "rel_M = (M/T)*100\n",
    "rel_S = (S/T)*100\n",
    "rel_I = (I/T)*100\n"
   ]
  },
  {
   "cell_type": "code",
   "execution_count": 20,
   "metadata": {},
   "outputs": [],
   "source": [
    "index_equals = np.where(rel_I>rel_M)"
   ]
  },
  {
   "cell_type": "code",
   "execution_count": 21,
   "metadata": {},
   "outputs": [
    {
     "data": {
      "image/png": "[encoded data removed]",
      "text/plain": [
       "<Figure size 720x360 with 2 Axes>"
      ]
     },
     "metadata": {
      "needs_background": "light"
     },
     "output_type": "display_data"
    }
   ],
   "source": [
    "f,ax = plt.subplots(1,2,figsize=[10,5])\n",
    "ax = ax.ravel()\n",
    "ftz=15\n",
    "\n",
    "ax[0].plot(Xfp.time,M,color='black')\n",
    "ax[0].plot(Xfp.time,M+I,color='black')\n",
    "ax[0].plot(Xfp.time,M+I+S,color='black')\n",
    "\n",
    "ax[0].fill_between(Xfp.time.values,0,M,color='grey',label='Model uncertainty')\n",
    "ax[0].fill_between(Xfp.time.values,M,M+I,color='blue',label='Internal variability uncertainty')\n",
    "ax[0].fill_between(Xfp.time.values,M+I,M+I+S,color='purple',label='Scenario uncertainty')\n",
    "ax[0].legend(fontsize=ftz-5)\n",
    "ax[0].set_ylim([0,0.13])\n",
    "ax[0].set_xlim([Xfp.time[0].values,Xfp.time.values[-1]])\n",
    "ax[0].axvline(Xfp.time[index_equals[0][-1]].values,color='black')\n",
    "\n",
    "\n",
    "ax[0].set_ylabel('Uncertainty ($^{\\circ}$C)',fontsize=ftz)\n",
    "ax[1].plot(Xfp.time,rel_M,color='black')\n",
    "ax[1].plot(Xfp.time,rel_I+rel_M,color='black')\n",
    "ax[1].fill_between(Xfp.time.values,0,rel_M,color='grey')\n",
    "ax[1].fill_between(Xfp.time.values,rel_M,rel_I+rel_M,color='blue')\n",
    "ax[1].fill_between(Xfp.time.values,rel_I+rel_M,rel_I+rel_M+rel_S,color='purple')\n",
    "\n",
    "ax[1].set_ylim([0,100])\n",
    "ax[1].set_ylabel('Relative Uncertainty (%)',fontsize=ftz)\n",
    "ax[1].set_xlim([Xfp.time[0].values,Xfp.time.values[-1]])\n",
    "\n",
    "ax[1].axvline(Xfp.time[index_equals[0][-1]].values,color='black')\n",
    "\n",
    "years = mdates.YearLocator(20)   # every 5 years\n",
    "years_minor = mdates.YearLocator(10)  # every year\n",
    "myFmt = mdates.DateFormatter('%Y')\n",
    "ax[0].xaxis.set_major_locator(years)\n",
    "ax[0].xaxis.set_minor_locator(years_minor)\n",
    "ax[0].xaxis.set_major_formatter(myFmt)\n",
    "\n",
    "ax[0].tick_params(labelsize=ftz)\n",
    "ax[1].tick_params(labelsize=ftz)\n",
    "ax[1].xaxis.set_major_locator(years)\n",
    "ax[1].xaxis.set_minor_locator(years_minor)\n",
    "ax[1].xaxis.set_major_formatter(myFmt)\n",
    "plt.subplots_adjust(wspace=0.3)\n",
    "ax[0].text(0,\n",
    "         1.04, 'a)',transform=ax[0].transAxes,size=ftz)\n",
    "ax[1].text(0,\n",
    "         1.04, 'b)',transform=ax[1].transAxes,size=ftz)\n",
    "\n",
    "ax[0].tick_params(labelbottom=True, labeltop=False, labelleft=True, labelright=False,\n",
    "                     bottom=True, top=True, left=True, right=True,length=5,direction='in')\n",
    "ax[1].tick_params(labelbottom=True, labeltop=False, labelleft=True, labelright=False,\n",
    "                     bottom=True, top=True, left=True, right=True,length=5,direction='in')\n",
    "\n",
    "plt.savefig(path_fig + 'figure_02_uncertainty_ALL.png',\n",
    "             dpi = 300,\n",
    "            bbox_inches='tight')"
   ]
  },
  {
   "cell_type": "code",
   "execution_count": 22,
   "metadata": {},
   "outputs": [
    {
     "name": "stdout",
     "output_type": "stream",
     "text": [
      "Model uncertainty 2085: 0.06\n",
      "Internal uncertainty 2085: 0.024\n",
      "Scenario uncertainty 2085: 0.006\n",
      "Total uncertainty 2085: 0.09\n"
     ]
    }
   ],
   "source": [
    "print('Model uncertainty 2085:',np.round(M[-1],3))\n",
    "print('Internal uncertainty 2085:',np.round(I[-1],3))\n",
    "print('Scenario uncertainty 2085:',np.round(S[-1],3))\n",
    "\n",
    "print('Total uncertainty 2085:',np.round(M[-1]+I[-1]+S[-1],2))"
   ]
  },
  {
   "cell_type": "code",
   "execution_count": 23,
   "metadata": {},
   "outputs": [
    {
     "name": "stdout",
     "output_type": "stream",
     "text": [
      "Model uncertainty 2005: 0.02\n",
      "Internal uncertainty 2005: 0.024\n",
      "Scenario uncertainty 2005: 0.0\n",
      "Total uncertainty 2005: 0.04\n"
     ]
    }
   ],
   "source": [
    "print('Model uncertainty 2005:',np.round(M[0],3))\n",
    "print('Internal uncertainty 2005:',np.round(I[0],3))\n",
    "print('Scenario uncertainty 2005:',np.round(S[0],3))\n",
    "\n",
    "print('Total uncertainty 2005:',np.round(M[0]+I[0]+S[0],2))"
   ]
  },
  {
   "cell_type": "code",
   "execution_count": 24,
   "metadata": {},
   "outputs": [
    {
     "data": {
      "text/plain": [
       "numpy.datetime64('2024-12-31T00:00:00.000000000')"
      ]
     },
     "execution_count": 24,
     "metadata": {},
     "output_type": "execute_result"
    }
   ],
   "source": [
    "Xfp.time[index_equals[0][-1]].values"
   ]
  },
  {
   "cell_type": "code",
   "execution_count": 34,
   "metadata": {},
   "outputs": [
    {
     "name": "stdout",
     "output_type": "stream",
     "text": [
      "fraction of uncertainty explained by the internal variability in 2005 0.54\n"
     ]
    }
   ],
   "source": [
    "print('fraction of uncertainty explained by the internal variability in 2005',np.round(I[0]/(M[0]+I[0]+S[0]),3))"
   ]
  },
  {
   "cell_type": "code",
   "execution_count": 35,
   "metadata": {},
   "outputs": [
    {
     "name": "stdout",
     "output_type": "stream",
     "text": [
      "fraction of uncertainty explained by the model uncertainty in 2085 0.672\n"
     ]
    }
   ],
   "source": [
    "print('fraction of uncertainty explained by the model uncertainty in 2085',np.round(M[-1]/(M[-1]+I[-1]+S[-1]),3))"
   ]
  },
  {
   "cell_type": "code",
   "execution_count": null,
   "metadata": {},
   "outputs": [],
   "source": []
  }
 ],
 "metadata": {
  "kernelspec": {
   "display_name": "Python [conda env:py3_std]",
   "language": "python",
   "name": "conda-env-py3_std-py"
  },
  "language_info": {
   "codemirror_mode": {
    "name": "ipython",
    "version": 3
   },
   "file_extension": ".py",
   "mimetype": "text/x-python",
   "name": "python",
   "nbconvert_exporter": "python",
   "pygments_lexer": "ipython3",
   "version": "3.7.3"
  }
 },
 "nbformat": 4,
 "nbformat_minor": 5
}
